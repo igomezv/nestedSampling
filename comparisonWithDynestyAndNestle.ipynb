{
 "cells": [
  {
   "cell_type": "code",
   "execution_count": 1,
   "metadata": {},
   "outputs": [],
   "source": [
    "import os\n",
    "import sys\n",
    "from scipy.special import ndtri\n",
    "import numpy as np\n",
    "from matplotlib import pyplot as plt\n",
    "import corner\n",
    "# import Nestle\n",
    "import nestle\n",
    "#dynesty\n",
    "import dynesty\n",
    "\n",
    "%matplotlib inline"
   ]
  },
  {
   "cell_type": "code",
   "execution_count": 2,
   "metadata": {},
   "outputs": [],
   "source": [
    "\"\"\"\n",
    "Setup a model and data\n",
    "\"\"\"\n",
    "\n",
    "\n",
    "# set the true values of the model parameters for creating the data\n",
    "m = 3.5 # gradient of the line\n",
    "c = 1.2 # y-intercept of the line\n",
    "\n",
    "# set the \"predictor variable\"/abscissa\n",
    "M = 1000\n",
    "xmin = 0.\n",
    "xmax = 10.\n",
    "stepsize = (xmax-xmin)/M\n",
    "x = np.arange(xmin, xmax, stepsize)\n",
    "\n",
    "# define the model function\n",
    "def theory(x, m, c):\n",
    "    \n",
    "    return m*x + c\n",
    "\n",
    "# create the data - the model plus Gaussian noise\n",
    "sigma = 0.05 # standard deviation of the noise\n",
    "data = theory(x, m, c) + sigma*np.random.randn(M)\n",
    "\n",
    "\n",
    "LN2PI = np.log(2.*np.pi)\n",
    "LNSIGMA = np.log(sigma)"
   ]
  },
  {
   "cell_type": "code",
   "execution_count": 3,
   "metadata": {},
   "outputs": [],
   "source": [
    "def prior_transform(theta):\n",
    "    \n",
    "    bounds = [[0, 10], [-2, 6]]\n",
    "    priors = []\n",
    "    # When theta 0-> append bound[0], if theta 1-> append bound[1]\n",
    "    for c, bound in enumerate(bounds):\n",
    "        priors.append(theta[c]*(bound[1]-bound[0])+bound[0])\n",
    "\n",
    "    # At this moment, np.array(priors) has shape (dims,)\n",
    "    # print(\"Prior transform : {}\".format(np.array(priors)))\n",
    "    return np.array(priors)"
   ]
  },
  {
   "cell_type": "code",
   "execution_count": 4,
   "metadata": {},
   "outputs": [],
   "source": [
    "def loglikelihood(theta):\n",
    "    \n",
    "    m, c = theta  # unpack the parameters\n",
    "\n",
    "    chisq = np.sum(((data-theory(x, m, c))/sigma)**2)\n",
    "\n",
    "    return -0.5*chisq"
   ]
  },
  {
   "cell_type": "code",
   "execution_count": null,
   "metadata": {},
   "outputs": [],
   "source": [
    "bounds = [[0, 10], [-2, 6]]\n",
    "nlive = 1024     # number of live points\n",
    "method = 'classic' # use MutliNest algorithm\n",
    "ndims = 2        # two parameters\n",
    "tol= 0.5         # the stopping criterion (this is the nestle default, so doesn't need to be set)\n",
    "\n",
    "res = nestle.sample(loglikelihood, prior_transform, ndims, method=method, npoints=nlive, dlogz=tol)\n",
    "\n",
    "logZnestle = res.logz                         # value of logZ\n",
    "infogainnestle = res.h                        # value of the information gain in nats\n",
    "logZerrnestle = np.sqrt(infogainnestle/nlive) # estimate of the statistcal uncertainty on logZ\n",
    "\n",
    "# output marginal likelihood\n",
    "print('Marginalised evidence is {} ± {}'.format(logZnestle, logZerrnestle))\n",
    "\n",
    "# re-scale weights to have a maximum of one\n",
    "nweights = res.weights/np.max(res.weights)\n",
    "\n",
    "postsamples = res.samples\n",
    "\n",
    "print('Number of posterior samples is {}'.format(postsamples.shape[0]))\n"
   ]
  },
  {
   "cell_type": "code",
   "execution_count": null,
   "metadata": {},
   "outputs": [],
   "source": [
    "nlive = 1024      # number of (initial) live points\n",
    "bound = 'multi'   # use MutliNest algorithm\n",
    "sample = 'rwalk'  # use the random walk to draw new samples\n",
    "\n",
    "sampler2 = dynesty.NestedSampler(loglikelihood, prior_transform, ndims,\n",
    "                        bound=bound, sample=sample, nlive=nlive)\n",
    "sampler2.run_nested(dlogz=0.01)\n",
    "\n",
    "res2 = sampler2.results\n",
    "\n",
    "logZdynesty = res2.logz[-1]        # value of logZ\n",
    "logZerrdynesty = res2.logzerr[-1]  # estimate of the statistcal uncertainty on logZ\n",
    "\n",
    "# output marginal likelihood\n",
    "print('Marginalised evidence (using static sampler) is {} ± {}'.format(logZdynesty, logZerrdynesty))\n",
    "\n",
    "# get the posterior samples\n",
    "weights = np.exp(res2['logwt'] - res2['logz'][-1])\n",
    "#postsamples2 = dynesty.utils.resample_equal(res2.samples, weights)\n",
    "postsamples2 = res2.samples\n",
    "\n",
    "###fig = corner.corner(dpostsamples, labels=[r\"$m$\", r\"$c$\"], truths=[m, c], hist_kwargs={'density': True})\n",
    "#fig = corner.corner(postsamples, fig=fig, color='r', hist_kwargs={'density': True})\n",
    "#plt.show()\n"
   ]
  },
  {
   "cell_type": "code",
   "execution_count": null,
   "metadata": {},
   "outputs": [],
   "source": [
    "print(\"logz : {} +/- {} \".format(round(res2.logz[-1], 3), round(res2.logzerr[-1], 3)))\n",
    "print(\"logLike : {} \".format(round(res2.logl[-1], 3)))"
   ]
  },
  {
   "cell_type": "code",
   "execution_count": null,
   "metadata": {},
   "outputs": [],
   "source": [
    "bounds = [[0, 10], [-2, 6]]\n",
    "\n",
    "def priorTransform(theta, bounds):\n",
    "    \"\"\"\n",
    "    This is a common prior transform (flat priors).\n",
    "\n",
    "    Parameters:\n",
    "        theta  : is a random vector with de dimensionality of the model.\n",
    "        bounds : list of lists of lower and higher bound for each parameter.\n",
    "    \"\"\"\n",
    "    priors = []\n",
    "    # When theta 0-> append bound[0], if theta 1-> append bound[1]\n",
    "    for c, bound in enumerate(bounds):\n",
    "        priors.append(theta[c]*(bound[1]-bound[0])+bound[0])\n",
    "\n",
    "    # At this moment, np.array(priors) has shape (dims,)\n",
    "    # print(\"Prior transform : {}\".format(np.array(priors)))\n",
    "    return np.array(priors)\n"
   ]
  },
  {
   "cell_type": "code",
   "execution_count": null,
   "metadata": {},
   "outputs": [],
   "source": [
    "from SkillingNS import SkillingNS"
   ]
  },
  {
   "cell_type": "code",
   "execution_count": null,
   "metadata": {},
   "outputs": [],
   "source": [
    "bounds = [[-2,6], [0,10]]\n",
    "sampler = SkillingNS(loglikelihood, priorTransform, ndims, bounds,\n",
    "                     nlivepoints=nlive)\n",
    "samples = sampler.sampler(accuracy=0.01)\n"
   ]
  },
  {
   "cell_type": "code",
   "execution_count": null,
   "metadata": {},
   "outputs": [],
   "source": [
    "# postsamples3 = samples['samples']['points'].values\n",
    "postsamples3 = samples['samples']['points'].to_numpy()\n",
    "#postsamples3 = postsamples3.ravel()\n",
    "#np.array(postsamples3).flatten()\n",
    "#np.array(postsamples3).resize(2,10000)\n",
    "# rows=int(np.shape(postsamples3)[0]/2)\n",
    "# ps3 = postsamples3.reshape(5512,2)\n",
    "np.array(postsamples3)"
   ]
  },
  {
   "cell_type": "code",
   "execution_count": null,
   "metadata": {},
   "outputs": [],
   "source": [
    "type(postsamples)"
   ]
  },
  {
   "cell_type": "code",
   "execution_count": null,
   "metadata": {},
   "outputs": [],
   "source": [
    "fig = corner.corner(postsamples2, labels=[r\"$m$\", r\"$c$\"], color = 'k', truths=[m, c])\n",
    "#fig = corner.corner(postsamples, fig=fig, color='r', hist_kwargs={'density': True})\n",
    "fig2 = corner.corner(postsamples, labels=[r\"$m$\", r\"$c$\"], color = 'b', truths=[m, c])\n",
    "fig3 = corner.corner(postsamples3, labels=[r\"$m$\", r\"$c$\"], color = 'r', truths=[m, c])\n",
    "\n"
   ]
  },
  {
   "cell_type": "code",
   "execution_count": null,
   "metadata": {},
   "outputs": [],
   "source": []
  }
 ],
 "metadata": {
  "kernelspec": {
   "display_name": "Python 3",
   "language": "python",
   "name": "python3"
  },
  "language_info": {
   "codemirror_mode": {
    "name": "ipython",
    "version": 3
   },
   "file_extension": ".py",
   "mimetype": "text/x-python",
   "name": "python",
   "nbconvert_exporter": "python",
   "pygments_lexer": "ipython3",
   "version": "3.6.9"
  }
 },
 "nbformat": 4,
 "nbformat_minor": 2
}
